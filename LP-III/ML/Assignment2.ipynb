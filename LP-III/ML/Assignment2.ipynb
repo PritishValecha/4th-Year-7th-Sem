{
 "cells": [
  {
   "cell_type": "code",
   "execution_count": 4,
   "id": "87ddffa9-039b-4d05-bb13-901205ceaf54",
   "metadata": {},
   "outputs": [
    {
     "name": "stdout",
     "output_type": "stream",
     "text": [
      "Defaulting to user installation because normal site-packages is not writeableNote: you may need to restart the kernel to use updated packages.\n",
      "\n",
      "Collecting plotly==5.24.1\n",
      "  Downloading plotly-5.24.1-py3-none-any.whl.metadata (7.3 kB)\n",
      "Requirement already satisfied: tenacity>=6.2.0 in c:\\users\\pv\\appdata\\local\\packages\\pythonsoftwarefoundation.python.3.12_qbz5n2kfra8p0\\localcache\\local-packages\\python312\\site-packages (from plotly==5.24.1) (8.2.3)\n",
      "Requirement already satisfied: packaging in c:\\users\\pv\\appdata\\local\\packages\\pythonsoftwarefoundation.python.3.12_qbz5n2kfra8p0\\localcache\\local-packages\\python312\\site-packages (from plotly==5.24.1) (23.2)\n",
      "Downloading plotly-5.24.1-py3-none-any.whl (19.1 MB)\n",
      "   ---------------------------------------- 0.0/19.1 MB ? eta -:--:--\n",
      "    --------------------------------------- 0.3/19.1 MB ? eta -:--:--\n",
      "   -- ------------------------------------- 1.3/19.1 MB 4.0 MB/s eta 0:00:05\n",
      "   ---- ----------------------------------- 2.1/19.1 MB 3.9 MB/s eta 0:00:05\n",
      "   ------ --------------------------------- 2.9/19.1 MB 4.1 MB/s eta 0:00:04\n",
      "   -------- ------------------------------- 3.9/19.1 MB 4.3 MB/s eta 0:00:04\n",
      "   ---------- ----------------------------- 5.0/19.1 MB 4.3 MB/s eta 0:00:04\n",
      "   ------------ --------------------------- 6.0/19.1 MB 4.5 MB/s eta 0:00:03\n",
      "   -------------- ------------------------- 7.1/19.1 MB 4.5 MB/s eta 0:00:03\n",
      "   ----------------- ---------------------- 8.1/19.1 MB 4.5 MB/s eta 0:00:03\n",
      "   ------------------ --------------------- 8.9/19.1 MB 4.5 MB/s eta 0:00:03\n",
      "   -------------------- ------------------- 10.0/19.1 MB 4.5 MB/s eta 0:00:03\n",
      "   ----------------------- ---------------- 11.0/19.1 MB 4.5 MB/s eta 0:00:02\n",
      "   ------------------------ --------------- 11.8/19.1 MB 4.5 MB/s eta 0:00:02\n",
      "   -------------------------- ------------- 12.8/19.1 MB 4.5 MB/s eta 0:00:02\n",
      "   ----------------------------- ---------- 13.9/19.1 MB 4.6 MB/s eta 0:00:02\n",
      "   ------------------------------- -------- 14.9/19.1 MB 4.6 MB/s eta 0:00:01\n",
      "   --------------------------------- ------ 16.0/19.1 MB 4.6 MB/s eta 0:00:01\n",
      "   ----------------------------------- ---- 17.0/19.1 MB 4.6 MB/s eta 0:00:01\n",
      "   ------------------------------------- -- 18.1/19.1 MB 4.7 MB/s eta 0:00:01\n",
      "   ---------------------------------------  18.9/19.1 MB 4.7 MB/s eta 0:00:01\n",
      "   ---------------------------------------- 19.1/19.1 MB 4.5 MB/s eta 0:00:00\n",
      "Installing collected packages: plotly\n",
      "Successfully installed plotly-5.24.1\n"
     ]
    }
   ],
   "source": [
    "pip install plotly==5.24.1"
   ]
  },
  {
   "cell_type": "code",
   "execution_count": null,
   "id": "49d2950a-9c30-4a30-97de-ab78c06c67cc",
   "metadata": {},
   "outputs": [],
   "source": []
  }
 ],
 "metadata": {
  "kernelspec": {
   "display_name": "Python 3 (ipykernel)",
   "language": "python",
   "name": "python3"
  },
  "language_info": {
   "codemirror_mode": {
    "name": "ipython",
    "version": 3
   },
   "file_extension": ".py",
   "mimetype": "text/x-python",
   "name": "python",
   "nbconvert_exporter": "python",
   "pygments_lexer": "ipython3",
   "version": "3.12.7"
  }
 },
 "nbformat": 4,
 "nbformat_minor": 5
}
